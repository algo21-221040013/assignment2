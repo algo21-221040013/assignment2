{
 "cells": [
  {
   "cell_type": "code",
   "execution_count": 8,
   "metadata": {},
   "outputs": [],
   "source": [
    "import pandas as pd\n",
    "import numpy as np\n",
    "import os \n",
    "os.environ['TF_CPP_MIN_LOG_LEVEL'] = '2'\n",
    "from itertools import product\n",
    "from tqdm.notebook import tqdm\n",
    "import statsmodels.api as sm\n",
    "from multiprocessing import Pool\n",
    "import matplotlib.pyplot as plt\n",
    "import datetime \n",
    "\n",
    "import warnings\n",
    "warnings.filterwarnings(\"ignore\")\n",
    "\n",
    "import tensorflow as tf\n",
    "from tensorflow import keras\n",
    "from tensorflow.keras import layers\n",
    "from keras.models import Sequential\n",
    "from keras.layers import LSTM, Dense, Dropout, Embedding\n",
    "# import keras\n",
    "from tensorflow.keras import optimizers\n",
    "from tensorflow.keras.callbacks import EarlyStopping\n",
    "from tensorflow.keras.backend import clear_session#, set_session, get_session"
   ]
  },
  {
   "cell_type": "code",
   "execution_count": 4,
   "metadata": {},
   "outputs": [
    {
     "name": "stdout",
     "output_type": "stream",
     "text": [
      "Num GPUs Available:  1\n"
     ]
    },
    {
     "name": "stderr",
     "output_type": "stream",
     "text": [
      "2022-01-27 09:47:15.148332: I tensorflow/core/common_runtime/gpu/gpu_device.cc:1525] Created device /device:GPU:0 with 22308 MB memory:  -> device: 0, name: NVIDIA GeForce RTX 3090, pci bus id: 0000:21:00.0, compute capability: 8.6\n"
     ]
    }
   ],
   "source": [
    "# # import torch\n",
    "# print(torch.__version__)\n",
    "\n",
    "# print(torch.version.cuda)\n",
    "# # print(torch.backends.cudnn.version())\n",
    "# print(torch.backends.cudnn.version())\n",
    "# # print(torch.cuda.is_available())  #返回True则说明已经安装了cuda\n",
    "# torch.cuda.device_count()\n",
    "\n",
    "\n",
    "# import torch\n",
    "# print(torch.cuda.is_available())  #返回True则说明已经安装了cuda\n",
    "# torch.cuda.device_count()\n",
    "tf.test.is_gpu_available()\n",
    "print(\"Num GPUs Available: \", len(tf.config.experimental.list_physical_devices('GPU')))"
   ]
  },
  {
   "cell_type": "code",
   "execution_count": 2,
   "metadata": {},
   "outputs": [],
   "source": [
    "# 50_50小数据\n",
    "all_stock_result = pd.read_pickle('all_stock_result.pkl')\n",
    "\n",
    "x_train_split = [x[0] for x in list(all_stock_result.values())]\n",
    "x_train_all = np.concatenate(x_train_split)\n",
    "\n",
    "y_train_split = [y[2] for y in list(all_stock_result.values())]\n",
    "y_train_all = np.concatenate(y_train_split)\n",
    "\n",
    "x_test_split = [x[3] for x in list(all_stock_result.values())]\n",
    "x_test_all = np.concatenate(x_test_split)\n",
    "\n",
    "y_test_split = [y[5] for y in list(all_stock_result.values())]\n",
    "y_test_all = np.concatenate(y_test_split)\n"
   ]
  },
  {
   "cell_type": "code",
   "execution_count": 2,
   "metadata": {},
   "outputs": [],
   "source": [
    "# 90-30-1 数据\n",
    "all_stock_result = pd.read_pickle('/code/task4-imbalance/train_result_k90_d30_n1/all_stock_result_k90_d30_n1.pkl')\n",
    "\n",
    "\n",
    "x_train_split = [x[0] for x in all_stock_result]\n",
    "x_train_all = np.concatenate(x_train_split)\n",
    "\n",
    "y_train_split = [y[2] for y in all_stock_result]\n",
    "y_train_all = np.concatenate(y_train_split)\n",
    "\n",
    "x_test_split = [x[3] for x in all_stock_result]\n",
    "x_test_all = np.concatenate(x_test_split)\n",
    "\n",
    "y_test_split = [y[5] for y in all_stock_result]\n",
    "y_test_all = np.concatenate(y_test_split)\n"
   ]
  },
  {
   "cell_type": "code",
   "execution_count": 2,
   "metadata": {},
   "outputs": [],
   "source": [
    "# 150-120 大数据\n",
    "all_stock_result = pd.read_pickle('/code/task4-imbalance/all_stock_result_k150_d120_n1.pkl')\n",
    "\n",
    "\n",
    "x_train_split = [x[0] for x in all_stock_result]\n",
    "x_train_all = np.concatenate(x_train_split)\n",
    "\n",
    "y_train_split = [y[2] for y in all_stock_result]\n",
    "y_train_all = np.concatenate(y_train_split)\n",
    "\n",
    "x_test_split = [x[3] for x in all_stock_result]\n",
    "x_test_all = np.concatenate(x_test_split)\n",
    "\n",
    "y_test_split = [y[5] for y in all_stock_result]\n",
    "y_test_all = np.concatenate(y_test_split)\n"
   ]
  },
  {
   "cell_type": "code",
   "execution_count": 29,
   "metadata": {},
   "outputs": [
    {
     "data": {
      "text/plain": [
       "-0.004186208312102462"
      ]
     },
     "execution_count": 29,
     "metadata": {},
     "output_type": "execute_result"
    },
    {
     "data": {
      "image/png": "[encoded data removed]",
      "text/plain": [
       "<Figure size 432x288 with 1 Axes>"
      ]
     },
     "metadata": {
      "needs_background": "light"
     },
     "output_type": "display_data"
    }
   ],
   "source": [
    "plt.plot(x_train_all[:50000,1,3])\n",
    "x_train_all[:5000000,1,3].mean()"
   ]
  },
  {
   "cell_type": "code",
   "execution_count": 3,
   "metadata": {},
   "outputs": [
    {
     "output_type": "execute_result",
     "data": {
      "text/plain": [
       "(7493360, 30, 17)"
      ]
     },
     "metadata": {},
     "execution_count": 3
    }
   ],
   "source": [
    "x_train_all.shape"
   ]
  },
  {
   "cell_type": "code",
   "execution_count": 4,
   "metadata": {},
   "outputs": [
    {
     "output_type": "execute_result",
     "data": {
      "text/plain": [
       "(7664686, 3)"
      ]
     },
     "metadata": {},
     "execution_count": 4
    }
   ],
   "source": [
    "y_test_all.shape"
   ]
  },
  {
   "cell_type": "code",
   "execution_count": null,
   "metadata": {},
   "outputs": [],
   "source": [
    "# model = keras.models.load_model('/code/task4-imbalance/models/model_l_bp_l_2d_allstock.h5')\n",
    "# all_stock_result = pd.read_pickle('all_stock_result.pkl')\n",
    "# model.predict(x_test_all[:,:,:-3])"
   ]
  },
  {
   "cell_type": "code",
   "execution_count": 12,
   "metadata": {},
   "outputs": [
    {
     "output_type": "execute_result",
     "data": {
      "text/plain": [
       "36009"
      ]
     },
     "metadata": {},
     "execution_count": 12
    }
   ],
   "source": [
    "import gc\n",
    "gc.collect()"
   ]
  },
  {
   "cell_type": "code",
   "execution_count": 5,
   "metadata": {},
   "outputs": [
    {
     "output_type": "stream",
     "name": "stdout",
     "text": [
      "Epoch 1/30\n",
      "7313/7318 [============================>.] - ETA: 0s - loss: 0.8084 - accuracy: 0.6238"
     ]
    },
    {
     "output_type": "error",
     "ename": "InternalError",
     "evalue": "Failed copying input tensor from /job:localhost/replica:0/task:0/device:CPU:0 to /job:localhost/replica:0/task:0/device:GPU:0 in order to run _EagerConst: Dst tensor is not initialized.",
     "traceback": [
      "\u001b[0;31m---------------------------------------------------------------------------\u001b[0m",
      "\u001b[0;31mInternalError\u001b[0m                             Traceback (most recent call last)",
      "\u001b[0;32m/tmp/ipykernel_5311/3720688332.py\u001b[0m in \u001b[0;36m<module>\u001b[0;34m\u001b[0m\n\u001b[1;32m     28\u001b[0m \u001b[0;34m\u001b[0m\u001b[0m\n\u001b[1;32m     29\u001b[0m     \u001b[0;31m# 对y序列进行预测\u001b[0m\u001b[0;34m\u001b[0m\u001b[0;34m\u001b[0m\u001b[0m\n\u001b[0;32m---> 30\u001b[0;31m     his = model1.fit(\n\u001b[0m\u001b[1;32m     31\u001b[0m             \u001b[0mx_train_all\u001b[0m\u001b[0;34m[\u001b[0m\u001b[0;34m:\u001b[0m\u001b[0;34m,\u001b[0m\u001b[0;34m:\u001b[0m\u001b[0;34m,\u001b[0m\u001b[0;34m:\u001b[0m\u001b[0;34m-\u001b[0m\u001b[0;36m3\u001b[0m\u001b[0;34m]\u001b[0m\u001b[0;34m,\u001b[0m\u001b[0;34m\u001b[0m\u001b[0;34m\u001b[0m\u001b[0m\n\u001b[1;32m     32\u001b[0m         \u001b[0my_train_all\u001b[0m\u001b[0;34m,\u001b[0m\u001b[0;34m\u001b[0m\u001b[0;34m\u001b[0m\u001b[0m\n",
      "\u001b[0;32m/opt/anaconda3/envs/tf1_20/lib/python3.9/site-packages/keras/utils/traceback_utils.py\u001b[0m in \u001b[0;36merror_handler\u001b[0;34m(*args, **kwargs)\u001b[0m\n\u001b[1;32m     65\u001b[0m     \u001b[0;32mexcept\u001b[0m \u001b[0mException\u001b[0m \u001b[0;32mas\u001b[0m \u001b[0me\u001b[0m\u001b[0;34m:\u001b[0m  \u001b[0;31m# pylint: disable=broad-except\u001b[0m\u001b[0;34m\u001b[0m\u001b[0;34m\u001b[0m\u001b[0m\n\u001b[1;32m     66\u001b[0m       \u001b[0mfiltered_tb\u001b[0m \u001b[0;34m=\u001b[0m \u001b[0m_process_traceback_frames\u001b[0m\u001b[0;34m(\u001b[0m\u001b[0me\u001b[0m\u001b[0;34m.\u001b[0m\u001b[0m__traceback__\u001b[0m\u001b[0;34m)\u001b[0m\u001b[0;34m\u001b[0m\u001b[0;34m\u001b[0m\u001b[0m\n\u001b[0;32m---> 67\u001b[0;31m       \u001b[0;32mraise\u001b[0m \u001b[0me\u001b[0m\u001b[0;34m.\u001b[0m\u001b[0mwith_traceback\u001b[0m\u001b[0;34m(\u001b[0m\u001b[0mfiltered_tb\u001b[0m\u001b[0;34m)\u001b[0m \u001b[0;32mfrom\u001b[0m \u001b[0;32mNone\u001b[0m\u001b[0;34m\u001b[0m\u001b[0;34m\u001b[0m\u001b[0m\n\u001b[0m\u001b[1;32m     68\u001b[0m     \u001b[0;32mfinally\u001b[0m\u001b[0;34m:\u001b[0m\u001b[0;34m\u001b[0m\u001b[0;34m\u001b[0m\u001b[0m\n\u001b[1;32m     69\u001b[0m       \u001b[0;32mdel\u001b[0m \u001b[0mfiltered_tb\u001b[0m\u001b[0;34m\u001b[0m\u001b[0;34m\u001b[0m\u001b[0m\n",
      "\u001b[0;32m/opt/anaconda3/envs/tf1_20/lib/python3.9/site-packages/tensorflow/python/framework/constant_op.py\u001b[0m in \u001b[0;36mconvert_to_eager_tensor\u001b[0;34m(value, ctx, dtype)\u001b[0m\n\u001b[1;32m    104\u001b[0m       \u001b[0mdtype\u001b[0m \u001b[0;34m=\u001b[0m \u001b[0mdtypes\u001b[0m\u001b[0;34m.\u001b[0m\u001b[0mas_dtype\u001b[0m\u001b[0;34m(\u001b[0m\u001b[0mdtype\u001b[0m\u001b[0;34m)\u001b[0m\u001b[0;34m.\u001b[0m\u001b[0mas_datatype_enum\u001b[0m\u001b[0;34m\u001b[0m\u001b[0;34m\u001b[0m\u001b[0m\n\u001b[1;32m    105\u001b[0m   \u001b[0mctx\u001b[0m\u001b[0;34m.\u001b[0m\u001b[0mensure_initialized\u001b[0m\u001b[0;34m(\u001b[0m\u001b[0;34m)\u001b[0m\u001b[0;34m\u001b[0m\u001b[0;34m\u001b[0m\u001b[0m\n\u001b[0;32m--> 106\u001b[0;31m   \u001b[0;32mreturn\u001b[0m \u001b[0mops\u001b[0m\u001b[0;34m.\u001b[0m\u001b[0mEagerTensor\u001b[0m\u001b[0;34m(\u001b[0m\u001b[0mvalue\u001b[0m\u001b[0;34m,\u001b[0m \u001b[0mctx\u001b[0m\u001b[0;34m.\u001b[0m\u001b[0mdevice_name\u001b[0m\u001b[0;34m,\u001b[0m \u001b[0mdtype\u001b[0m\u001b[0;34m)\u001b[0m\u001b[0;34m\u001b[0m\u001b[0;34m\u001b[0m\u001b[0m\n\u001b[0m\u001b[1;32m    107\u001b[0m \u001b[0;34m\u001b[0m\u001b[0m\n\u001b[1;32m    108\u001b[0m \u001b[0;34m\u001b[0m\u001b[0m\n",
      "\u001b[0;31mInternalError\u001b[0m: Failed copying input tensor from /job:localhost/replica:0/task:0/device:CPU:0 to /job:localhost/replica:0/task:0/device:GPU:0 in order to run _EagerConst: Dst tensor is not initialized."
     ]
    }
   ],
   "source": [
    "with tf.device(\"/gpu:0\"):   # gpu版本尝试\n",
    "    # 对每个sample的最后一个ylabel进行预测\n",
    "    model1 = Sequential()\n",
    "\n",
    "    # model1.add(Dense(32))  # 维度为 32 的全连接层\n",
    "    timesteps = x_train_all.shape[1]\n",
    "    data_dim = x_train_all.shape[2]-3\n",
    "    # data_dim = 5\n",
    "\n",
    "    model1.add(LSTM(128, return_sequences=True,\n",
    "                input_shape=(timesteps, data_dim)))  # 返回维度为 128 的向量序列\n",
    "\n",
    "    model1.add(Dropout(0.5))    # dropout 0.5\n",
    "\n",
    "    model1.add(LSTM(128, return_sequences=False))  # 返回维度为 128 的向量序列\n",
    "\n",
    "    model1.add(Dense(32))  # 维度为 32 的全连接层\n",
    "    model1.add(Dense(3, activation='softmax'))    # softmax 后的最终结果\n",
    "\n",
    "\n",
    "\n",
    "    model1_opt = optimizers.Adam(lr = 0.0005)\n",
    "    model1.compile(loss='categorical_crossentropy',\n",
    "                optimizer='adam',\n",
    "                metrics=['accuracy'])\n",
    "\n",
    "#     early_stop = EarlyStopping(min_delta=0.001, patience=3, monitor=\"val_accuracy\")   \n",
    "\n",
    "    # 对y序列进行预测\n",
    "    his = model1.fit(\n",
    "            x_train_all[:,:,:-3], \n",
    "        y_train_all, \n",
    "            batch_size=1024, \n",
    "            epochs=30,\n",
    "            validation_data=(x_test_all[:,:,:-3], y_test_all),\n",
    "        #     callbacks=[early_stop]\n",
    "            )\n",
    "\n",
    "    # model1.save('model_3l_3d_ndp.h5')       # "
   ]
  },
  {
   "cell_type": "code",
   "execution_count": 6,
   "metadata": {},
   "outputs": [
    {
     "output_type": "error",
     "ename": "InternalError",
     "evalue": "Failed copying input tensor from /job:localhost/replica:0/task:0/device:CPU:0 to /job:localhost/replica:0/task:0/device:GPU:0 in order to run _EagerConst: Dst tensor is not initialized.",
     "traceback": [
      "\u001b[0;31m---------------------------------------------------------------------------\u001b[0m",
      "\u001b[0;31mInternalError\u001b[0m                             Traceback (most recent call last)",
      "\u001b[0;32m/tmp/ipykernel_764/1896466582.py\u001b[0m in \u001b[0;36m<module>\u001b[0;34m\u001b[0m\n\u001b[1;32m     37\u001b[0m \u001b[0;34m\u001b[0m\u001b[0m\n\u001b[1;32m     38\u001b[0m \u001b[0;31m# 对y序列进行预测\u001b[0m\u001b[0;34m\u001b[0m\u001b[0;34m\u001b[0m\u001b[0m\n\u001b[0;32m---> 39\u001b[0;31m his = model1.fit(x_train_all[:,:,:-3], y_train_all,          \n\u001b[0m\u001b[1;32m     40\u001b[0m           \u001b[0mbatch_size\u001b[0m\u001b[0;34m=\u001b[0m\u001b[0;36m1024\u001b[0m\u001b[0;34m,\u001b[0m \u001b[0mepochs\u001b[0m\u001b[0;34m=\u001b[0m\u001b[0;36m30\u001b[0m\u001b[0;34m,\u001b[0m\u001b[0;34m\u001b[0m\u001b[0;34m\u001b[0m\u001b[0m\n\u001b[1;32m     41\u001b[0m           \u001b[0mvalidation_data\u001b[0m\u001b[0;34m=\u001b[0m\u001b[0;34m(\u001b[0m\u001b[0mx_test_all\u001b[0m\u001b[0;34m[\u001b[0m\u001b[0;34m:\u001b[0m\u001b[0;34m,\u001b[0m\u001b[0;34m:\u001b[0m\u001b[0;34m,\u001b[0m\u001b[0;34m:\u001b[0m\u001b[0;34m-\u001b[0m\u001b[0;36m3\u001b[0m\u001b[0;34m]\u001b[0m\u001b[0;34m,\u001b[0m \u001b[0my_test_all\u001b[0m\u001b[0;34m)\u001b[0m\u001b[0;34m,\u001b[0m\u001b[0;34m\u001b[0m\u001b[0;34m\u001b[0m\u001b[0m\n",
      "\u001b[0;32m/opt/anaconda3/envs/tf1_20/lib/python3.9/site-packages/keras/utils/traceback_utils.py\u001b[0m in \u001b[0;36merror_handler\u001b[0;34m(*args, **kwargs)\u001b[0m\n\u001b[1;32m     65\u001b[0m     \u001b[0;32mexcept\u001b[0m \u001b[0mException\u001b[0m \u001b[0;32mas\u001b[0m \u001b[0me\u001b[0m\u001b[0;34m:\u001b[0m  \u001b[0;31m# pylint: disable=broad-except\u001b[0m\u001b[0;34m\u001b[0m\u001b[0;34m\u001b[0m\u001b[0m\n\u001b[1;32m     66\u001b[0m       \u001b[0mfiltered_tb\u001b[0m \u001b[0;34m=\u001b[0m \u001b[0m_process_traceback_frames\u001b[0m\u001b[0;34m(\u001b[0m\u001b[0me\u001b[0m\u001b[0;34m.\u001b[0m\u001b[0m__traceback__\u001b[0m\u001b[0;34m)\u001b[0m\u001b[0;34m\u001b[0m\u001b[0;34m\u001b[0m\u001b[0m\n\u001b[0;32m---> 67\u001b[0;31m       \u001b[0;32mraise\u001b[0m \u001b[0me\u001b[0m\u001b[0;34m.\u001b[0m\u001b[0mwith_traceback\u001b[0m\u001b[0;34m(\u001b[0m\u001b[0mfiltered_tb\u001b[0m\u001b[0;34m)\u001b[0m \u001b[0;32mfrom\u001b[0m \u001b[0;32mNone\u001b[0m\u001b[0;34m\u001b[0m\u001b[0;34m\u001b[0m\u001b[0m\n\u001b[0m\u001b[1;32m     68\u001b[0m     \u001b[0;32mfinally\u001b[0m\u001b[0;34m:\u001b[0m\u001b[0;34m\u001b[0m\u001b[0;34m\u001b[0m\u001b[0m\n\u001b[1;32m     69\u001b[0m       \u001b[0;32mdel\u001b[0m \u001b[0mfiltered_tb\u001b[0m\u001b[0;34m\u001b[0m\u001b[0;34m\u001b[0m\u001b[0m\n",
      "\u001b[0;32m/opt/anaconda3/envs/tf1_20/lib/python3.9/site-packages/tensorflow/python/framework/constant_op.py\u001b[0m in \u001b[0;36mconvert_to_eager_tensor\u001b[0;34m(value, ctx, dtype)\u001b[0m\n\u001b[1;32m    104\u001b[0m       \u001b[0mdtype\u001b[0m \u001b[0;34m=\u001b[0m \u001b[0mdtypes\u001b[0m\u001b[0;34m.\u001b[0m\u001b[0mas_dtype\u001b[0m\u001b[0;34m(\u001b[0m\u001b[0mdtype\u001b[0m\u001b[0;34m)\u001b[0m\u001b[0;34m.\u001b[0m\u001b[0mas_datatype_enum\u001b[0m\u001b[0;34m\u001b[0m\u001b[0;34m\u001b[0m\u001b[0m\n\u001b[1;32m    105\u001b[0m   \u001b[0mctx\u001b[0m\u001b[0;34m.\u001b[0m\u001b[0mensure_initialized\u001b[0m\u001b[0;34m(\u001b[0m\u001b[0;34m)\u001b[0m\u001b[0;34m\u001b[0m\u001b[0;34m\u001b[0m\u001b[0m\n\u001b[0;32m--> 106\u001b[0;31m   \u001b[0;32mreturn\u001b[0m \u001b[0mops\u001b[0m\u001b[0;34m.\u001b[0m\u001b[0mEagerTensor\u001b[0m\u001b[0;34m(\u001b[0m\u001b[0mvalue\u001b[0m\u001b[0;34m,\u001b[0m \u001b[0mctx\u001b[0m\u001b[0;34m.\u001b[0m\u001b[0mdevice_name\u001b[0m\u001b[0;34m,\u001b[0m \u001b[0mdtype\u001b[0m\u001b[0;34m)\u001b[0m\u001b[0;34m\u001b[0m\u001b[0;34m\u001b[0m\u001b[0m\n\u001b[0m\u001b[1;32m    107\u001b[0m \u001b[0;34m\u001b[0m\u001b[0m\n\u001b[1;32m    108\u001b[0m \u001b[0;34m\u001b[0m\u001b[0m\n",
      "\u001b[0;31mInternalError\u001b[0m: Failed copying input tensor from /job:localhost/replica:0/task:0/device:CPU:0 to /job:localhost/replica:0/task:0/device:GPU:0 in order to run _EagerConst: Dst tensor is not initialized."
     ]
    }
   ],
   "source": [
    "# # cpu_version\n",
    "\n",
    "# # # 对每个sample的最后一个ylabel进行预测\n",
    "# model1 = Sequential()\n",
    "\n",
    "# # model1.add(Dense(32))  # 维度为 32 的全连接层\n",
    "# timesteps = x_train_all.shape[1]\n",
    "# data_dim = x_train_all.shape[2]-3\n",
    "# # data_dim = 5\n",
    "\n",
    "# model1.add(LSTM(128, return_sequences=True,\n",
    "#                input_shape=(timesteps, data_dim)))  # 返回维度为 128 的向量序列\n",
    "\n",
    "# model1.add(Dropout(0.5))    # dropout 0.5\n",
    "\n",
    "# model1.add(LSTM(128, return_sequences=False))  # 返回维度为 128 的向量序列\n",
    "\n",
    "# model1.add(Dense(32))  # 维度为 32 的全连接层\n",
    "# model1.add(Dense(3, activation='softmax'))    # softmax 后的最终结果\n",
    "\n",
    "\n",
    "# # model1.add(LSTM(512, return_sequences=True))  # 返回维度为 1024 的向量序列\n",
    "# # model1.add(LSTM(512//2, return_sequences=True))  # 返回维度为 512 的向量序列\n",
    "# # model1.add(LSTM(256//2, return_sequences=False))  # 返回维度为 256 的向量序列\n",
    "\n",
    "# # model1.add(Dense(128))  # 维度为 128 的全连接层\n",
    "# # model1.add(Dense(6))  # 维度为 6 的全连接层\n",
    "# # model1.add(Dense(3, activation='softmax'))    # softmax 后的最终结果\n",
    "\n",
    "# model1_opt = optimizers.Adam(lr = 0.0005)\n",
    "# model1.compile(loss='categorical_crossentropy',\n",
    "#               optimizer='adam',\n",
    "#               metrics=['accuracy'])\n",
    "\n",
    "# early_stop = EarlyStopping(min_delta=0.002,patience=2)   \n",
    "\n",
    "# # 对y序列进行预测 \n",
    "# his = model1.fit(x_train_all[:,:,:-3], y_train_all,          \n",
    "#           batch_size=1024, epochs=30,\n",
    "#           validation_data=(x_test_all[:,:,:-3], y_test_all),\n",
    "#           callbacks=[early_stop])\n",
    "\n",
    "# # model1.save('model_3l_3d_ndp.h5')       # "
   ]
  },
  {
   "cell_type": "code",
   "execution_count": null,
   "metadata": {},
   "outputs": [],
   "source": [
    "# fig output\n",
    "plt.figure(figsize=(16,20))\n",
    "ax1 = plt.subplot(2,1,1)\n",
    "ax1.plot(his.history['loss'],label='train_loss')\n",
    "ax1.plot(his.history['val_loss'], label='val_loss')\n",
    "ax1.set_title('loss',fontdict={'size':16})\n",
    "\n",
    "plt.legend(prop = {'size':16})\n",
    "plt.tick_params(labelsize=15)\n",
    "plt.xticks(range(0,len(his.history['val_loss'])))\n",
    "plt.xlabel('epoch',size=16)\n",
    "\n",
    "ax2 = plt.subplot(2,1,2)\n",
    "ax2.plot(his.history['accuracy'],label='train_acc')\n",
    "ax2.plot(his.history['val_accuracy'], label='val_acc')\n",
    "plt.legend(prop = {'size':16})\n",
    "plt.tick_params(labelsize=15)\n",
    "plt.xticks(range(0,len(his.history['val_loss'])))\n",
    "plt.xlabel('epoch',size=16)\n",
    "ax2.set_title('accuracy',fontdict={'size':16})\n",
    "\n",
    "# plt.set_ticks_position('top')\n",
    "# plt.subplots_adjust(hspace=0.1)\n",
    "plt.savefig('loss_allstock.png' , bbox_inches='tight')\n",
    "\n",
    "df_result = pd.concat([pd.Series(x) for x in his.history.values()],axis=1)\n",
    "df_result.columns = ['train_loss','train_acc','val_loss','val_acc']\n",
    "df_result.index.names=['epoch']\n",
    "df_result.iloc[-1:,:].round(4)\n",
    "\n",
    "pd.DataFrame([[np.argmax(df_result.train_acc),df_result.train_loss.min(), df_result.train_acc.max(),np.argmax(df_result.val_acc),df_result.val_loss.min(), df_result.val_acc.max()]],columns=['best_train_epoch','train_loss','train_acc','best_val_epoch','val_loss','val_acc']).round(4)\n",
    "\n",
    "# his.history"
   ]
  }
 ],
 "metadata": {
  "interpreter": {
   "hash": "111c48119140c4048f19eb4e7811116e14c077020e5f1d0df5beb444de7f9991"
  },
  "kernelspec": {
   "name": "python3",
   "display_name": "Python 3.9.7 64-bit ('tf1_20': conda)"
  },
  "language_info": {
   "codemirror_mode": {
    "name": "ipython",
    "version": 3
   },
   "file_extension": ".py",
   "mimetype": "text/x-python",
   "name": "python",
   "nbconvert_exporter": "python",
   "pygments_lexer": "ipython3",
   "version": "3.9.7"
  },
  "orig_nbformat": 4
 },
 "nbformat": 4,
 "nbformat_minor": 2
}