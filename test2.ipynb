{
 "cells": [
  {
   "cell_type": "code",
   "execution_count": 2,
   "metadata": {},
   "outputs": [],
   "source": [
    "import pandas as pd\n",
    "import numpy as np\n",
    "import os \n",
    "from itertools import product\n",
    "from tqdm.notebook import tqdm\n",
    "import statsmodels.api as sm\n",
    "from multiprocessing import Pool\n",
    "import matplotlib.pyplot as plt\n",
    "import datetime\n",
    "import warnings\n",
    "warnings.filterwarnings(\"ignore\")\n",
    "# from evaluate_func import *"
   ]
  },
  {
   "cell_type": "code",
   "execution_count": 3,
   "metadata": {},
   "outputs": [],
   "source": [
    "market_data_train = pd.read_pickle('/code/20211027_alldays_market_data_cleanadd/market_data_train.pkl')\n"
   ]
  },
  {
   "cell_type": "markdown",
   "metadata": {},
   "source": [
    "# 输入数据标准化"
   ]
  },
  {
   "cell_type": "code",
   "execution_count": 10,
   "metadata": {},
   "outputs": [],
   "source": [
    "# def normalize_time(x):\n",
    "\n",
    "def second_to_time(second,add = True):       # 跳过11.30-13.00，分时，原始数据的时间是1e7的形式\n",
    "    if add==False:\n",
    "        if second>41400:\n",
    "            second += 3600*1.5\n",
    "    m, s = divmod(second, 60)\n",
    "    h, m = divmod(m, 60)\n",
    "    return h*1e7 + m*1e5 + s*1e3\n",
    "\n",
    "def time_to_second(time):\n",
    "    h = time // 1e7\n",
    "    min = time%1e7//1e5\n",
    "    s = time % 1e5 /1e3\n",
    "    result = 3600*h + 60*min+s\n",
    "    if result>=46800:      # 13点以后的时间，转成11.30之后的时间，让上下午的时间连起来\n",
    "        result -= 1.5*3600\n",
    "    return result\n",
    "    "
   ]
  },
  {
   "cell_type": "code",
   "execution_count": 16,
   "metadata": {},
   "outputs": [
    {
     "data": {
      "text/plain": [
       "7140.0"
      ]
     },
     "execution_count": 16,
     "metadata": {},
     "output_type": "execute_result"
    }
   ],
   "source": [
    "def time_to_second(time):\n",
    "    h = time // 1e7\n",
    "    min = time%1e7//1e5\n",
    "    s = time % 1e5 /1e3\n",
    "    result = 3600*h + 60*min+s\n",
    "    if result>41400:      # 13点以后的时间，转成11.30之后的时间，让上下午的时间连起来\n",
    "        result -= 1.5*3600\n",
    "    return result - 34200\n",
    "# time_to_second(11.29e7)"
   ]
  },
  {
   "cell_type": "code",
   "execution_count": 249,
   "metadata": {},
   "outputs": [
    {
     "data": {
      "text/plain": [
       "array([[4740],\n",
       "       [4741],\n",
       "       [4742],\n",
       "       [4743],\n",
       "       [4744],\n",
       "       [4745],\n",
       "       [4746],\n",
       "       [4747],\n",
       "       [4748],\n",
       "       [4749],\n",
       "       [4750],\n",
       "       [4751],\n",
       "       [4752],\n",
       "       [4753],\n",
       "       [4754],\n",
       "       [4755],\n",
       "       [4756],\n",
       "       [4757],\n",
       "       [4758],\n",
       "       [4759]])"
      ]
     },
     "execution_count": 249,
     "metadata": {},
     "output_type": "execute_result"
    }
   ],
   "source": [
    "# market_data_train[(20191204, 1)]\n",
    "data[np.isnan(data[:,24])]\n",
    "np.argwhere(np.isnan(data[:,23]))   # 每天的最后几个数据有缺失"
   ]
  },
  {
   "cell_type": "code",
   "execution_count": 279,
   "metadata": {},
   "outputs": [],
   "source": [
    "date = 20191204 # 日期参数\n",
    "code = 1        # 股票\n",
    "time_window_ofi = 10    # ofi的时间窗口长度,初始10s\n",
    "\n",
    "def ofi_calc(data):\n",
    "    OFI =[]                      # 返回一个长度为5的各个档位OFI\n",
    "    for m in range(1,6):        # 第m档数据\n",
    "        \n",
    "        e = []\n",
    "\n",
    "        for tal in range(1, data.shape[0]):    \n",
    "            # W\n",
    "            if data[tal,4+m] > data[tal-1,4+m]:   # if b_m(tal_n) > b_m(tal_n-1) \n",
    "                w = data[tal, 14+m]\n",
    "            elif data[tal,4+m] == data[tal-1,4+m]:     # if b_m(tal_n) == b_m(tal_n-1) \n",
    "                w = data[tal, 14+m] - data[tal-1, 14+m]\n",
    "            else:                                            # # if b_m(tal_n) < b_m(tal_n-1)                        \n",
    "                w = data[tal-1, 14+m]\n",
    "\n",
    "            # V\n",
    "            if data[tal, 9+m] > data[tal-1, 9+m]:   # if a_m(tal_n) > a_m(tal_n-1) \n",
    "                v = -data[tal-1, 19+m]\n",
    "            elif data[tal,4+m] == data[tal-1,4+m]:     # if a_m(tal_n) == a_m(tal_n-1) \n",
    "                v = data[tal, 19+m] - data[tal-1, 19+m]\n",
    "            else:                                            # # if a_m(tal_n) < a_m(tal_n-1)                        \n",
    "                v = data[tal, 19+m]\n",
    "\n",
    "           \n",
    "            e.append(w-v)\n",
    "        \n",
    "        OFI.append(np.sum(e))\n",
    "    return OFI\n",
    "\n",
    "class input_data:\n",
    "    def __init__(self, date, code, k=60, d=40, n=1, time_window_ofi=10):\n",
    "        self.date = date\n",
    "        self.code = code\n",
    "\n",
    "        self.time_window_ofi = time_window_ofi     # 计算ofi的时间窗口长度,默认是十秒\n",
    "        self.k = k                                 # 历史k时间段计算价格波动作为上下界阈值\n",
    "        self.d = d                                 # 持仓时间阈值                                     \n",
    "        self.n = n                                 # n倍价格波动作为阈值\n",
    "\n",
    "        self.data = market_data_train[(date, code)]\n",
    "\n",
    "    def normalized_input_data(self):\n",
    "        time_window_ofi = self.time_window_ofi\n",
    "        data = self.data\n",
    "\n",
    "        diff_data = np.diff(data,axis=0)[:,[3,4,5,10,15,20]]     # 差分数据：保留成交量，成交金额，买一价+量，卖一价+量六个差分数据\n",
    "        ask1_bid1_delta = (data[1:,10] - data[1:,5]).reshape(-1,1)                 # 卖一价减去买一价\n",
    "        input_8 = np.hstack((data[1:,3].reshape(-1,1), diff_data,ask1_bid1_delta))  # 除了ofi以外的其他数据 \n",
    "\n",
    "        second_time = pd.Series(data[:,1]).apply(time_to_second)    # 把时间转化成秒，且上下午的时间是连起来的\n",
    "\n",
    "        ofi_list = []\n",
    "        for t in second_time:\n",
    "            ofi = ofi_calc(data[(second_time>t-time_window_ofi) & (second_time<=t)])      # 这个时间段的5档ofi\n",
    "            ofi_list.append(ofi)       # 时间序列上的五档ofi结果\n",
    "        ofi_list = np.array(ofi_list)[1:]\n",
    "\n",
    "        input_result_array = np.hstack((input_8, ofi_list))\n",
    "\n",
    "        return input_result_array[1:]     # 输出1：长度是为了和trple barrier的长度一致\n",
    "\n",
    "    def triple_barrier_labeling(self):\n",
    "        k =self.k\n",
    "        d =self.d\n",
    "        n =self.n\n",
    "        data = self.data\n",
    "\n",
    "        # mid_price = pd.Series(data[:,26])     # 将中间价格转化成series，方便后续的滚动窗口操作,固定slcie数量，即窗口长度，**todo**\n",
    "        \n",
    "        # 计算每个时间点前k个时间点之内的价格波动率\n",
    "        return_data = np.diff(data[:,26]) / data[1:,26]    # 收益率array\n",
    "        second_time = pd.Series(data[:,1]).apply(time_to_second)    # 把时间转化成秒，且上下午的时间是连起来的\n",
    "        \n",
    "        volitility_list = []                   # 窗口为K的历史收益波动率序列第一个值肯定是0,其长度为data长度-1\n",
    "        for t in second_time[1:]:\n",
    "            volitility = return_data[(second_time[1:]>t-k) & (second_time[1:]<=t)].std()\n",
    "            volitility_list.append(volitility)\n",
    "        \n",
    "        volitility_array = np.array(volitility_list)\n",
    "        \n",
    "        # 从第二个return_data开始计算是否触碰边界,即第三个midprice时间开始计算label\n",
    "        up_list = list((1 + volitility_array[1:]) * data[2:,26])          # 价格上界\n",
    "        down_list = list((1 - volitility_array[1:]) * data[2:,26])        # 价格下界\n",
    "\n",
    "        label_list = []\n",
    "        for n, t in enumerate(second_time[2:]):\n",
    "            price_tmp = data[2:,26][(second_time[2:]>t) & (second_time[2:]<=t + d)]   # 对每个时间点，price_tmp为其往后d时间内的价格\n",
    "            label_array = np.where( price_tmp> up_list[n], 1, np.where(price_tmp < down_list[n], -1, 0))\n",
    "            label = label_array[label_array!=0][0] if len(label_array[label_array!=0]) > 0 else 0\n",
    "            label_list.append(label)\n",
    "\n",
    "        return np.array(label_list).reshape(-1,1)\n",
    "    def input_data_n_label(self):\n",
    "        result = np.hstack((self.normalized_input_data(), self.triple_barrier_labeling()))\n",
    "        result = result[~np.isnan(result).any(axis=1)]     # 去掉inputdata缺失的数据\n",
    "        return result"
   ]
  },
  {
   "cell_type": "code",
   "execution_count": 277,
   "metadata": {},
   "outputs": [],
   "source": [
    "# check one day one stock\n",
    "\n",
    "aa = input_data(20191204,1)\n",
    "# aa.normalized_input_date()\n",
    "# return_data, second_time = aa.triple_barrier_labeling()\n",
    "# # return_data[]\n",
    "# k=60\n",
    "# for t in second_time[1:]:\n",
    "#     return_data[(second_time[1:]>t-k) & (second_time[1:]<=t)]\n",
    "# volitility_array = np.array(aa.triple_barrier_labeling())\n",
    "# volitility_array + 1\n",
    "\n",
    "# label = aa.triple_barrier_labeling()\n",
    "# input_data_code1 = aa.normalized_input_data()\n",
    "\n",
    "train = aa.input_data_n_label()\n",
    "# 一个股票一天生成输入变量和label需要10s左右"
   ]
  },
  {
   "cell_type": "code",
   "execution_count": 275,
   "metadata": {},
   "outputs": [
    {
     "data": {
      "text/plain": [
       "(4759, 14)"
      ]
     },
     "execution_count": 275,
     "metadata": {},
     "output_type": "execute_result"
    }
   ],
   "source": [
    "np.hstack((input_data_code1, np.array(label).reshape(-1,1))).shape"
   ]
  },
  {
   "cell_type": "code",
   "execution_count": 264,
   "metadata": {},
   "outputs": [
    {
     "data": {
      "text/plain": [
       "array([[4738],\n",
       "       [4739],\n",
       "       [4740],\n",
       "       [4741],\n",
       "       [4742],\n",
       "       [4743],\n",
       "       [4744],\n",
       "       [4745],\n",
       "       [4746],\n",
       "       [4747],\n",
       "       [4748],\n",
       "       [4749],\n",
       "       [4750],\n",
       "       [4751],\n",
       "       [4752],\n",
       "       [4753],\n",
       "       [4754],\n",
       "       [4755],\n",
       "       [4756],\n",
       "       [4757]])"
      ]
     },
     "execution_count": 264,
     "metadata": {},
     "output_type": "execute_result"
    }
   ],
   "source": [
    "np.argwhere(np.isnan(input_data_code1).any(axis=1))\n",
    "# input_data_code1[~np.isnan(input_data_code1).any(axis=1),:].shape\n",
    "# input_data_code1.shape"
   ]
  },
  {
   "cell_type": "code",
   "execution_count": 84,
   "metadata": {},
   "outputs": [],
   "source": [
    "# check tmp\n",
    "date = 20191204 # 日期参数\n",
    "code = 1        # 股票\n",
    "# time_to_second(market_data_train[(date, code)][:,1])\n",
    "data = market_data_train[(date, code)]\n",
    "second_time = pd.Series(data[:,1]).apply(time_to_second)    # 吧时间转化成秒，且上下午的时间是连起来的\n",
    "time_window_ofi = 10\n",
    "\n",
    "diff_data = np.diff(data,axis=0)[:,[3,4,5,10,15,20]]     # 差分数据：保留成交量，成交金额，买一价+量，卖一价+量六个差分数据\n",
    "ask1_bid1_delta = (data[1:,10] - data[1:,5]).reshape(-1,1)                 # 卖一价减去买一价\n",
    "input_8 = np.hstack((data[1:,3].reshape(-1,1), diff_data,ask1_bid1_delta))  # 除了ofi意外的其他数据\n",
    "\n",
    "# np.diff(data[:10],axis=0).shape\n",
    "\n",
    "# data = market_data_train[(date, code)]\n",
    "# diff_data = np.diff(data,axis=0)[:,[3,4,5,10,15,20]]     # 差分数据：保留成交量，成交金额，买一价+量，卖一价+量六个差分数据\n",
    "\n",
    "ofi_list = []\n",
    "for t in second_time:\n",
    "    ofi = ofi_calc(data[(second_time>t-time_window_ofi) & (second_time<=t)])      # 这个时间段的5档ofi\n",
    "    ofi_list.append(ofi)       # 时间序列上的五档ofi结果\n",
    "\n",
    "ofi_list = np.array(ofi_list)[1:]\n",
    "        # return ofi_list\n",
    "\n",
    "input_result_array = np.hstack((input_8, ofi_list))"
   ]
  },
  {
   "cell_type": "code",
   "execution_count": 207,
   "metadata": {},
   "outputs": [
    {
     "data": {
      "text/plain": [
       "42353"
      ]
     },
     "execution_count": 207,
     "metadata": {},
     "output_type": "execute_result"
    }
   ],
   "source": [
    "len(list(market_data_train.keys()))             # 所有数据共42353个"
   ]
  },
  {
   "cell_type": "code",
   "execution_count": 204,
   "metadata": {},
   "outputs": [],
   "source": [
    "input_and_label = {}\n",
    "for x in tqdm(list(market_data_train.keys())):\n",
    "    date = x[0]\n",
    "    code = x[1]\n",
    "    input_and_label[x] = input_data(date, code)#[input_data(date, code).normalized_input_data(), input_data(date, code).triple_barrier_labeling()]\n",
    "    "
   ]
  },
  {
   "cell_type": "code",
   "execution_count": 233,
   "metadata": {},
   "outputs": [],
   "source": [
    "date_list = np.unique([x[0] for x in list(market_data_train.keys())])   # 20191204 - 2020_01_31之前的数据\n",
    "train_date = date_list[:int(len(date_list)/2)]     # 训练集日期\n",
    "test_date = date_list[int(len(date_list)/2):]     # 测试集日期"
   ]
  },
  {
   "cell_type": "code",
   "execution_count": 224,
   "metadata": {},
   "outputs": [
    {
     "data": {
      "text/plain": [
       "array([20191204, 20191205, 20191206, 20191209, 20191210, 20191211,\n",
       "       20191213, 20191216, 20191219, 20191225, 20191227, 20191231,\n",
       "       20200102, 20200103, 20200106, 20200108, 20200109, 20200113,\n",
       "       20200114, 20200115, 20200116, 20200120, 20200121, 20200123])"
      ]
     },
     "execution_count": 224,
     "metadata": {},
     "output_type": "execute_result"
    }
   ],
   "source": [
    "x_before20201231 = [x for x in list(market_data_train.keys()) if x[0] <= 20200131]   # 20191204 - 2020_01_31之前的数据\n",
    "np.unique([y[0] for y in x_before20201231])      # 24天--训练集\n"
   ]
  },
  {
   "cell_type": "code",
   "execution_count": 217,
   "metadata": {},
   "outputs": [
    {
     "data": {
      "text/plain": [
       "400"
      ]
     },
     "execution_count": 217,
     "metadata": {},
     "output_type": "execute_result"
    }
   ],
   "source": [
    "len(np.unique([y[1] for y in x_before20201231]))      # 400只股票\n"
   ]
  },
  {
   "cell_type": "code",
   "execution_count": 223,
   "metadata": {},
   "outputs": [
    {
     "data": {
      "text/plain": [
       "array([20200203, 20200206, 20200207, 20200210, 20200211, 20200213,\n",
       "       20200214, 20200217, 20200218, 20200219, 20200220, 20200221,\n",
       "       20200225, 20200227, 20200228, 20200305, 20200306, 20200309,\n",
       "       20200310, 20200311, 20200313, 20200316, 20200318, 20200319])"
      ]
     },
     "execution_count": 223,
     "metadata": {},
     "output_type": "execute_result"
    }
   ],
   "source": [
    "x_between_20201231_20200301 = [x for x in list(market_data_train.keys()) if x[0] >= 20200131 and x[0] < 20200320]   # 20200131 - 20200320\n",
    "np.unique([y[0] for y in x_between_20201231_20200301])      # 24天--测试集\n"
   ]
  },
  {
   "cell_type": "code",
   "execution_count": 236,
   "metadata": {},
   "outputs": [],
   "source": [
    "# 生成code1的训练集和测试集\n",
    "train_data_code1_index = [x for x in list(market_data_train.keys()) if x[0] in train_date and x[1] ==1]\n",
    "test_data_code1_index = [x for x in list(market_data_train.keys()) if x[0] in test_date and x[1] ==1]"
   ]
  },
  {
   "cell_type": "code",
   "execution_count": 280,
   "metadata": {},
   "outputs": [],
   "source": [
    "# input_and_label = {}\n",
    "def map_net_prepare(x):\n",
    "# for x in tqdm(list(market_data_train.keys())):\n",
    "    date = x[0]\n",
    "    code = x[1]\n",
    "    result = input_data(date, code).input_data_n_label()#[input_data(date, code).normalized_input_data(), input_data(date, code).triple_barrier_labeling()]\n",
    "    return result\n",
    "\n",
    "with Pool(32) as pool:  \n",
    "    # train_data = pool.map(map_net_prepare, x_before20201231)\n",
    "    train_data_code1 = pool.map(map_net_prepare, train_data_code1_index)    # code==1的训练集数据\n",
    "    test_data_code1 = pool.map(map_net_prepare, test_data_code1_index)      # code==1的测试集数据"
   ]
  },
  {
   "cell_type": "code",
   "execution_count": 230,
   "metadata": {},
   "outputs": [],
   "source": [
    "pd.to_pickle(train_data, 'train_input_n_label.pkl')"
   ]
  },
  {
   "cell_type": "code",
   "execution_count": 282,
   "metadata": {},
   "outputs": [],
   "source": [
    "pd.to_pickle(train_data_code1, 'train_data_code1.pkl')\n",
    "pd.to_pickle(test_data_code1, 'test_data_code1.pkl')\n"
   ]
  }
 ],
 "metadata": {
  "interpreter": {
   "hash": "40d3a090f54c6569ab1632332b64b2c03c39dcf918b08424e98f38b5ae0af88f"
  },
  "kernelspec": {
   "display_name": "Python 3.7.6 64-bit ('anaconda3': virtualenv)",
   "language": "python",
   "name": "python3"
  },
  "language_info": {
   "codemirror_mode": {
    "name": "ipython",
    "version": 3
   },
   "file_extension": ".py",
   "mimetype": "text/x-python",
   "name": "python",
   "nbconvert_exporter": "python",
   "pygments_lexer": "ipython3",
   "version": "3.7.11"
  },
  "orig_nbformat": 4
 },
 "nbformat": 4,
 "nbformat_minor": 2
}
